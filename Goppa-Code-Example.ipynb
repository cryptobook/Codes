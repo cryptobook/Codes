{
 "cells": [
  {
   "cell_type": "markdown",
   "metadata": {},
   "source": [
    "### Construct a binary [16,8,5] Goppa code (Example 15.31)\n",
    "\n",
    "Section 15.3 of \"A Course in Cryptography\"\n",
    "\n",
    "Author: H. Knospe"
   ]
  },
  {
   "cell_type": "code",
   "execution_count": 1,
   "metadata": {},
   "outputs": [],
   "source": [
    "K.<z>=GF(2^4, name='z', modulus=x^4+x+1) # K=GF(16)"
   ]
  },
  {
   "cell_type": "code",
   "execution_count": 2,
   "metadata": {},
   "outputs": [],
   "source": [
    "PR.<x>=K[] # polynomial ring K[x]"
   ]
  },
  {
   "cell_type": "code",
   "execution_count": 3,
   "metadata": {},
   "outputs": [
    {
     "data": {
      "text/plain": [
       "True"
      ]
     },
     "execution_count": 3,
     "metadata": {},
     "output_type": "execute_result"
    }
   ],
   "source": [
    "g=x^2+z^2*x+z; g.is_irreducible() # irreducible polynomial g of degree 2 over GF(16)"
   ]
  },
  {
   "cell_type": "code",
   "execution_count": 4,
   "metadata": {},
   "outputs": [],
   "source": [
    "Rmodg=PR.quotient_ring(g) # GF(16)/(g(x))"
   ]
  },
  {
   "cell_type": "code",
   "execution_count": 5,
   "metadata": {},
   "outputs": [],
   "source": [
    "arr=[]  # define values 1/(x-a) for a in K\n",
    "for a in K.list():\n",
    "\tarr.append(1/Rmodg(x-a)) "
   ]
  },
  {
   "cell_type": "code",
   "execution_count": 6,
   "metadata": {},
   "outputs": [],
   "source": [
    "H16=matrix(K,2,16)"
   ]
  },
  {
   "cell_type": "code",
   "execution_count": 7,
   "metadata": {},
   "outputs": [],
   "source": [
    "for i in range(0,2):\n",
    "\tfor j in range(0,16):\n",
    "\t\tH16[i,j]=list(arr[j])[i]"
   ]
  },
  {
   "cell_type": "code",
   "execution_count": 8,
   "metadata": {},
   "outputs": [
    {
     "data": {
      "text/plain": [
       "[                z           z^3 + z                 0               z^3               z^3           z^2 + z                 1 z^3 + z^2 + z + 1           z^2 + z           z^3 + z z^3 + z^2 + z + 1       z^3 + z + 1       z^3 + z + 1                 z                 1     z^3 + z^2 + 1]\n",
       "[          z^3 + 1             z + 1           z^3 + 1 z^3 + z^2 + z + 1           z^2 + 1             z + 1 z^3 + z^2 + z + 1                 1           z^2 + z     z^3 + z^2 + 1           z^2 + 1     z^3 + z^2 + 1                 1               z^2               z^2           z^2 + z]"
      ]
     },
     "execution_count": 8,
     "metadata": {},
     "output_type": "execute_result"
    }
   ],
   "source": [
    "H16 # parity check matrix of a [16,14] code C over GF(16)"
   ]
  },
  {
   "cell_type": "code",
   "execution_count": 9,
   "metadata": {},
   "outputs": [],
   "source": [
    "H=matrix(GF(2),8,16)\n",
    "for i in range(0,2):\n",
    "\tfor j in range(0,16):\n",
    "\t\tH16[i,j]=list(arr[j])[i]\n",
    "\t\thbin=bin(eval(H16[i,j]._int_repr()))[2:]\n",
    "\t\thbin = '0'*(4-len(hbin))+hbin; hbin = list(hbin);\n",
    "\t\tH[4*i:4*(i+1),j] = vector(map(GF(2),hbin));"
   ]
  },
  {
   "cell_type": "code",
   "execution_count": 10,
   "metadata": {},
   "outputs": [
    {
     "data": {
      "text/plain": [
       "[0 1 0 1 1 0 0 1 0 1 1 1 1 0 0 1]\n",
       "[0 0 0 0 0 1 0 1 1 0 1 0 0 0 0 1]\n",
       "[1 1 0 0 0 1 0 1 1 1 1 1 1 1 0 0]\n",
       "[0 0 0 0 0 0 1 1 0 0 1 1 1 0 1 1]\n",
       "[1 0 1 1 0 0 1 0 0 1 0 1 0 0 0 0]\n",
       "[0 0 0 1 1 0 1 0 1 1 1 1 0 1 1 1]\n",
       "[0 1 0 1 0 1 1 0 1 0 0 0 0 0 0 1]\n",
       "[1 1 1 1 1 1 1 1 0 1 1 1 1 0 0 0]"
      ]
     },
     "execution_count": 10,
     "metadata": {},
     "output_type": "execute_result"
    }
   ],
   "source": [
    "H # parity check matrix of associated [16,8,5] Goppa code over GF(2)"
   ]
  },
  {
   "cell_type": "code",
   "execution_count": 11,
   "metadata": {},
   "outputs": [],
   "source": [
    "G=H.right_kernel().basis_matrix()"
   ]
  },
  {
   "cell_type": "code",
   "execution_count": 12,
   "metadata": {},
   "outputs": [
    {
     "data": {
      "text/plain": [
       "[1 0 0 0 0 0 0 0 1 0 0 1 0 1 0 1]\n",
       "[0 1 0 0 0 0 0 0 1 0 1 0 0 1 1 0]\n",
       "[0 0 1 0 0 0 0 0 1 1 0 0 0 0 1 1]\n",
       "[0 0 0 1 0 0 0 0 1 1 1 0 1 0 0 0]\n",
       "[0 0 0 0 1 0 0 0 0 1 0 1 1 1 0 0]\n",
       "[0 0 0 0 0 1 0 0 0 1 0 1 1 0 1 1]\n",
       "[0 0 0 0 0 0 1 0 0 0 1 1 1 1 1 1]\n",
       "[0 0 0 0 0 0 0 1 0 1 1 1 0 0 1 0]"
      ]
     },
     "execution_count": 12,
     "metadata": {},
     "output_type": "execute_result"
    }
   ],
   "source": [
    "G # generator matrix of the Goppa code"
   ]
  },
  {
   "cell_type": "code",
   "execution_count": 13,
   "metadata": {},
   "outputs": [],
   "source": [
    "Gamma = LinearCode(G)"
   ]
  },
  {
   "cell_type": "code",
   "execution_count": 14,
   "metadata": {},
   "outputs": [
    {
     "data": {
      "text/plain": [
       "5"
      ]
     },
     "execution_count": 14,
     "metadata": {},
     "output_type": "execute_result"
    }
   ],
   "source": [
    "Gamma.minimum_distance() # SageMath verifies that the minimum distance is 5"
   ]
  },
  {
   "cell_type": "markdown",
   "metadata": {},
   "source": [
    "### Decoding using Patterson's algorithm (Example 15.32)\n",
    "\n",
    "Section 15.3 of \"A Course in Cryptography\"\n",
    "\n",
    "Author: H. Knospe"
   ]
  },
  {
   "cell_type": "code",
   "execution_count": 15,
   "metadata": {},
   "outputs": [],
   "source": [
    "v=vector(GF(2),[1, 1, 0, 1, 0, 0, 1, 0])*G # codeword"
   ]
  },
  {
   "cell_type": "code",
   "execution_count": 16,
   "metadata": {},
   "outputs": [],
   "source": [
    "e=vector(GF(2),[0, 0, 1, 0, 0, 0, 1, 0, 0, 0, 0, 0, 0, 0, 0, 0]) # error positions are 3 and 7"
   ]
  },
  {
   "cell_type": "code",
   "execution_count": 17,
   "metadata": {},
   "outputs": [],
   "source": [
    "w=v+e # erroneous codeword"
   ]
  },
  {
   "cell_type": "code",
   "execution_count": 18,
   "metadata": {},
   "outputs": [
    {
     "data": {
      "text/plain": [
       "(z^2 + z)*xbar + 1"
      ]
     },
     "execution_count": 18,
     "metadata": {},
     "output_type": "execute_result"
    }
   ],
   "source": [
    "syn=w*vector(arr); syn # syndrome Syn(w)"
   ]
  },
  {
   "cell_type": "code",
   "execution_count": 19,
   "metadata": {},
   "outputs": [
    {
     "data": {
      "text/plain": [
       "z^3*xbar + z^3 + z + 1"
      ]
     },
     "execution_count": 19,
     "metadata": {},
     "output_type": "execute_result"
    }
   ],
   "source": [
    "T=1/(w*vector(arr)); T # 1/Syn(w)"
   ]
  },
  {
   "cell_type": "code",
   "execution_count": 20,
   "metadata": {},
   "outputs": [
    {
     "data": {
      "text/plain": [
       "(z^3 + 1)*xbar + z^3 + z + 1"
      ]
     },
     "execution_count": 20,
     "metadata": {},
     "output_type": "execute_result"
    }
   ],
   "source": [
    "T-Rmodg(x)"
   ]
  },
  {
   "cell_type": "code",
   "execution_count": 21,
   "metadata": {},
   "outputs": [
    {
     "data": {
      "text/plain": [
       "(z^3 + z^2)*xbar + z^2 + z + 1"
      ]
     },
     "execution_count": 21,
     "metadata": {},
     "output_type": "execute_result"
    }
   ],
   "source": [
    "R=(T-Rmodg(x))^128; R # sqrt(T-x) in GF(16)/(g)"
   ]
  },
  {
   "cell_type": "code",
   "execution_count": 22,
   "metadata": {},
   "outputs": [
    {
     "data": {
      "text/plain": [
       "(z^3 + z^2 + z + 1)*x^2 + x + z^2 + z"
      ]
     },
     "execution_count": 22,
     "metadata": {},
     "output_type": "execute_result"
    }
   ],
   "source": [
    "a0=(z^3+z^2)*x+z^2+z+1;b0=1\n",
    "sigma=a0*a0+x*b0*b0; sigma # lift R to K[x] and set sigma=a0^2 + x*b0^2"
   ]
  },
  {
   "cell_type": "code",
   "execution_count": 23,
   "metadata": {},
   "outputs": [
    {
     "data": {
      "text/plain": [
       "(z^3 + z^2 + z + 1) * (x + z^2) * (x + z^3 + z^2)"
      ]
     },
     "execution_count": 23,
     "metadata": {},
     "output_type": "execute_result"
    }
   ],
   "source": [
    "sigma.factor()"
   ]
  },
  {
   "cell_type": "code",
   "execution_count": 24,
   "metadata": {},
   "outputs": [],
   "source": [
    "i=0; e=vector(GF(2),16)"
   ]
  },
  {
   "cell_type": "code",
   "execution_count": 25,
   "metadata": {},
   "outputs": [
    {
     "name": "stdout",
     "output_type": "stream",
     "text": [
      "(0, 0, 1, 0, 0, 0, 1, 0, 0, 0, 0, 0, 0, 0, 0, 0)\n"
     ]
    }
   ],
   "source": [
    "for k in list(K):\n",
    "    if ((sigma.subs(x=k))==0):\n",
    "        e[i]=1\n",
    "    i=i+1\n",
    "print(e)        # print error vector"
   ]
  },
  {
   "cell_type": "code",
   "execution_count": 26,
   "metadata": {},
   "outputs": [
    {
     "data": {
      "text/plain": [
       "(z^2 + z)*xbar + 1"
      ]
     },
     "execution_count": 26,
     "metadata": {},
     "output_type": "execute_result"
    }
   ],
   "source": [
    "e*vector(arr) # Syn(e); w and e have the same syndrome"
   ]
  },
  {
   "cell_type": "code",
   "execution_count": 27,
   "metadata": {},
   "outputs": [
    {
     "data": {
      "text/plain": [
       "(0, 0, 0, 1, 0, 1, 1, 0)"
      ]
     },
     "execution_count": 27,
     "metadata": {},
     "output_type": "execute_result"
    }
   ],
   "source": [
    "w*H.transpose()"
   ]
  },
  {
   "cell_type": "code",
   "execution_count": 28,
   "metadata": {},
   "outputs": [
    {
     "data": {
      "text/plain": [
       "(0, 0, 0, 1, 0, 1, 1, 0)"
      ]
     },
     "execution_count": 28,
     "metadata": {},
     "output_type": "execute_result"
    }
   ],
   "source": [
    "e*H.transpose()"
   ]
  },
  {
   "cell_type": "markdown",
   "metadata": {
    "collapsed": true
   },
   "source": [
    "### McEliece (Example 15.34)\n",
    "\n",
    "Section 15.4 of \"A Course in Cryptography\"\n",
    "\n",
    "Author: H. Knospe"
   ]
  },
  {
   "cell_type": "code",
   "execution_count": 29,
   "metadata": {},
   "outputs": [],
   "source": [
    "S=matrix(GF(2),\n",
    "[[0, 0, 1, 0, 0, 1, 1, 0],\n",
    " [1, 0, 1, 0, 1, 0, 1, 0],\n",
    " [0, 0, 0, 0, 0, 1, 0, 0],\n",
    " [1, 1, 0, 0, 0, 0, 0, 0],\n",
    " [0, 1, 0, 1, 0, 1, 0, 1],\n",
    " [1, 1, 1, 1, 1, 0, 0, 0],\n",
    " [0, 0, 0, 1, 0, 1, 0, 1],\n",
    " [0, 0, 1, 1, 1, 1, 1, 0]]) # secret invertible 8x8 matrix"
   ]
  },
  {
   "cell_type": "code",
   "execution_count": 30,
   "metadata": {},
   "outputs": [
    {
     "data": {
      "text/plain": [
       "[0 0 0 0 0 0 0 1 0 0 0 0 0 0 0 0]\n",
       "[0 0 0 0 0 0 1 0 0 0 0 0 0 0 0 0]\n",
       "[0 0 1 0 0 0 0 0 0 0 0 0 0 0 0 0]\n",
       "[0 0 0 0 0 0 0 0 0 0 0 0 1 0 0 0]\n",
       "[0 0 0 0 0 1 0 0 0 0 0 0 0 0 0 0]\n",
       "[0 0 0 0 0 0 0 0 0 0 1 0 0 0 0 0]\n",
       "[0 0 0 0 0 0 0 0 0 1 0 0 0 0 0 0]\n",
       "[0 0 0 1 0 0 0 0 0 0 0 0 0 0 0 0]\n",
       "[0 0 0 0 0 0 0 0 1 0 0 0 0 0 0 0]\n",
       "[0 0 0 0 0 0 0 0 0 0 0 0 0 1 0 0]\n",
       "[1 0 0 0 0 0 0 0 0 0 0 0 0 0 0 0]\n",
       "[0 0 0 0 0 0 0 0 0 0 0 0 0 0 1 0]\n",
       "[0 1 0 0 0 0 0 0 0 0 0 0 0 0 0 0]\n",
       "[0 0 0 0 0 0 0 0 0 0 0 0 0 0 0 1]\n",
       "[0 0 0 0 1 0 0 0 0 0 0 0 0 0 0 0]\n",
       "[0 0 0 0 0 0 0 0 0 0 0 1 0 0 0 0]"
      ]
     },
     "execution_count": 30,
     "metadata": {},
     "output_type": "execute_result"
    }
   ],
   "source": [
    "perm = Permutation([11,13,3,8,15,5,2,1,9,7,6,16,4,10,12,14])\n",
    "P = matrix(GF(2),perm.to_matrix());P # secret 16x16 permutation matrix"
   ]
  },
  {
   "cell_type": "code",
   "execution_count": 31,
   "metadata": {},
   "outputs": [
    {
     "data": {
      "text/plain": [
       "[1 0 1 0 1 0 0 0 1 1 1 1 0 0 0 1]\n",
       "[1 0 1 0 0 1 0 1 0 1 0 1 0 0 1 1]\n",
       "[0 1 0 0 1 0 0 0 0 0 1 1 0 1 1 0]\n",
       "[1 0 0 0 1 0 1 1 0 0 0 1 0 0 1 0]\n",
       "[1 0 0 1 1 0 1 0 0 0 1 1 1 1 0 1]\n",
       "[0 0 1 0 0 1 1 1 0 0 0 0 1 1 0 1]\n",
       "[0 0 0 1 0 0 0 0 1 0 1 1 1 1 0 0]\n",
       "[0 0 1 0 1 1 0 0 0 1 1 1 1 0 1 0]"
      ]
     },
     "execution_count": 31,
     "metadata": {},
     "output_type": "execute_result"
    }
   ],
   "source": [
    "G1 = S*G*P; G1 # public generator matrix of a [16,8,5] code"
   ]
  },
  {
   "cell_type": "code",
   "execution_count": 32,
   "metadata": {},
   "outputs": [],
   "source": [
    "v = vector(GF(2),[0, 1, 1, 1, 0, 0, 1, 1]) # plaintext"
   ]
  },
  {
   "cell_type": "code",
   "execution_count": 33,
   "metadata": {},
   "outputs": [],
   "source": [
    "e = vector(GF(2),[0,1,0,0,0,0,0,0,0,0,0,0,0,1,0,0]) # error vector"
   ]
  },
  {
   "cell_type": "code",
   "execution_count": 34,
   "metadata": {},
   "outputs": [
    {
     "data": {
      "text/plain": [
       "(0, 0, 0, 1, 1, 0, 1, 0, 1, 0, 1, 1, 0, 1, 0, 1)"
      ]
     },
     "execution_count": 34,
     "metadata": {},
     "output_type": "execute_result"
    }
   ],
   "source": [
    "y=v*G1 + e; y # ciphertext"
   ]
  },
  {
   "cell_type": "code",
   "execution_count": 35,
   "metadata": {},
   "outputs": [
    {
     "data": {
      "text/plain": [
       "(0, 1, 0, 0, 0, 1, 0, 1, 1, 1, 0, 0, 0, 1, 1, 1)"
      ]
     },
     "execution_count": 35,
     "metadata": {},
     "output_type": "execute_result"
    }
   ],
   "source": [
    "y1=y*P.inverse(); y1 # first decryption step"
   ]
  },
  {
   "cell_type": "code",
   "execution_count": 36,
   "metadata": {},
   "outputs": [],
   "source": [
    "# Now Goppa decoding using Patterson's algorithm \n",
    "\n",
    "def patterson(w):\n",
    "    e=vector(GF(2),16)\n",
    "    Syn=w*vector(arr); Syn # syndrome Syn(w)\n",
    "    T=1/(w*vector(arr))\n",
    "    if (Syn==0):\n",
    "        return(e,w) # no error\n",
    "    if (T==Rmodg(x)):\n",
    "        sigma=x\n",
    "    else:\n",
    "        R=(T-Rmodg(x))^128 # sqrt(T-x) in GF(16)/(g)\n",
    "        a0=R.lift() # lift R to K[x]\n",
    "        b0=1\n",
    "        sigma=a0*a0+x*b0*b0 # set sigma=a0^2 + x*b0^2    \n",
    "    i=0    \n",
    "    for k in list(K):\n",
    "        if ((sigma.subs(x=k))==0):\n",
    "            e[i]=1\n",
    "        i=i+1\n",
    "    return(e,w+e) # error vector and codeword"
   ]
  },
  {
   "cell_type": "code",
   "execution_count": 37,
   "metadata": {},
   "outputs": [
    {
     "name": "stdout",
     "output_type": "stream",
     "text": [
      "(1, 1, 1, 1, 0, 0, 0, 0, 1, 1, 1, 0, 0, 1, 0, 0)\n",
      "(0, 0, 0, 0, 0, 0, 0, 0, 0, 1, 0, 0, 1, 0, 0, 0)\n",
      "(0, 1, 0, 0, 0, 1, 0, 1, 1, 0, 0, 0, 1, 1, 1, 1)\n"
     ]
    }
   ],
   "source": [
    "e, c = patterson(y1); print(w); print(e); print(c) # Exercise 10"
   ]
  },
  {
   "cell_type": "code",
   "execution_count": 38,
   "metadata": {},
   "outputs": [
    {
     "data": {
      "text/plain": [
       "(0, 1, 1, 1, 0, 0, 1, 1)"
      ]
     },
     "execution_count": 38,
     "metadata": {},
     "output_type": "execute_result"
    }
   ],
   "source": [
    "G.solve_left(c)*S.inverse() # recover plaintext"
   ]
  },
  {
   "cell_type": "markdown",
   "metadata": {},
   "source": [
    "### Information-set Decoding (Example 15.35)\n",
    "\n",
    "Section 15.4 of \"A Course in Cryptography\"\n",
    "\n",
    "Author: H. Knospe"
   ]
  },
  {
   "cell_type": "code",
   "execution_count": 39,
   "metadata": {},
   "outputs": [
    {
     "data": {
      "text/plain": [
       "[0 1 0 0 0 1 1 1]\n",
       "[0 0 1 0 1 0 1 0]\n",
       "[0 1 0 0 0 0 0 1]\n",
       "[0 1 0 1 1 0 0 0]\n",
       "[1 1 0 1 0 0 0 1]\n",
       "[0 0 1 1 1 0 0 0]\n",
       "[1 0 0 0 0 1 0 1]\n",
       "[0 1 1 0 0 0 1 1]"
      ]
     },
     "execution_count": 39,
     "metadata": {},
     "output_type": "execute_result"
    }
   ],
   "source": [
    "GI=G1[:,3:11];GI # index set I: 4,5,6,7,8,9,10,11"
   ]
  },
  {
   "cell_type": "code",
   "execution_count": 40,
   "metadata": {},
   "outputs": [
    {
     "data": {
      "text/plain": [
       "(1, 1, 0, 1, 0, 1, 0, 1)"
      ]
     },
     "execution_count": 40,
     "metadata": {},
     "output_type": "execute_result"
    }
   ],
   "source": [
    "yI=y[3:11]; yI # extract positions I from the ciphertext"
   ]
  },
  {
   "cell_type": "code",
   "execution_count": 41,
   "metadata": {},
   "outputs": [
    {
     "data": {
      "text/plain": [
       "(0, 1, 1, 1, 0, 0, 1, 1)"
      ]
     },
     "execution_count": 41,
     "metadata": {},
     "output_type": "execute_result"
    }
   ],
   "source": [
    "xI=yI*GI.inverse(); xI # success; get plaintext since error is outside I"
   ]
  },
  {
   "cell_type": "code",
   "execution_count": 42,
   "metadata": {},
   "outputs": [
    {
     "data": {
      "text/plain": [
       "(0, 1, 0, 0, 0, 0, 0, 0, 0, 0, 0, 0, 0, 1, 0, 0)"
      ]
     },
     "execution_count": 42,
     "metadata": {},
     "output_type": "execute_result"
    }
   ],
   "source": [
    "xI*G1+y # verfication ok, only two errors"
   ]
  },
  {
   "cell_type": "code",
   "execution_count": 43,
   "metadata": {},
   "outputs": [
    {
     "data": {
      "text/plain": [
       "[1 0 1 0 1 0 0 0]\n",
       "[1 0 1 0 0 1 0 1]\n",
       "[0 1 0 0 1 0 0 0]\n",
       "[1 0 0 0 1 0 1 1]\n",
       "[1 0 0 1 1 0 1 0]\n",
       "[0 0 1 0 0 1 1 1]\n",
       "[0 0 0 1 0 0 0 0]\n",
       "[0 0 1 0 1 1 0 0]"
      ]
     },
     "execution_count": 43,
     "metadata": {},
     "output_type": "execute_result"
    }
   ],
   "source": [
    "GI=G1[:,0:8];GI # other index set I: 1,2,3,4,5,6,7,8"
   ]
  },
  {
   "cell_type": "code",
   "execution_count": 44,
   "metadata": {},
   "outputs": [
    {
     "data": {
      "text/plain": [
       "(0, 0, 0, 1, 1, 0, 1, 0)"
      ]
     },
     "execution_count": 44,
     "metadata": {},
     "output_type": "execute_result"
    }
   ],
   "source": [
    "yI=y[0:8]; yI # extract positions I from the ciphertext"
   ]
  },
  {
   "cell_type": "code",
   "execution_count": 45,
   "metadata": {},
   "outputs": [
    {
     "data": {
      "text/plain": [
       "(0, 0, 0, 1, 1, 1, 0, 1)"
      ]
     },
     "execution_count": 45,
     "metadata": {},
     "output_type": "execute_result"
    }
   ],
   "source": [
    "xI=yI*GI.inverse(); xI # now positions I contain errors"
   ]
  },
  {
   "cell_type": "code",
   "execution_count": 46,
   "metadata": {},
   "outputs": [
    {
     "data": {
      "text/plain": [
       "(0, 0, 0, 0, 0, 0, 0, 0, 1, 1, 1, 0, 1, 1, 0, 1)"
      ]
     },
     "execution_count": 46,
     "metadata": {},
     "output_type": "execute_result"
    }
   ],
   "source": [
    "xI*G1+y # verfication fails, 6 errors"
   ]
  },
  {
   "cell_type": "markdown",
   "metadata": {},
   "source": [
    "### Niederreiter Cryptosystem (Example 15.37)\n",
    "\n",
    "Section 15.4 of \"A Course in Cryptography\"\n",
    "\n",
    "Author: H. Knospe"
   ]
  },
  {
   "cell_type": "code",
   "execution_count": 47,
   "metadata": {},
   "outputs": [],
   "source": [
    "w = vector(GF(2),[0,0,0,0,1,0,0,1,0,0,0,0,0,0,0,0]) # plaintext vector of weight 2"
   ]
  },
  {
   "cell_type": "code",
   "execution_count": 48,
   "metadata": {},
   "outputs": [
    {
     "data": {
      "text/plain": [
       "(0, 0, 1, 0, 1, 1, 1, 0)"
      ]
     },
     "execution_count": 48,
     "metadata": {},
     "output_type": "execute_result"
    }
   ],
   "source": [
    "y = S*H*P*w; y # ciphertext"
   ]
  },
  {
   "cell_type": "code",
   "execution_count": 49,
   "metadata": {},
   "outputs": [
    {
     "data": {
      "text/plain": [
       "(0, 0, 1, 1, 1, 1, 0, 1)"
      ]
     },
     "execution_count": 49,
     "metadata": {},
     "output_type": "execute_result"
    }
   ],
   "source": [
    "syn=S.inverse()*y; syn # syndrome (Exercise 12)"
   ]
  },
  {
   "cell_type": "code",
   "execution_count": 50,
   "metadata": {},
   "outputs": [
    {
     "data": {
      "text/plain": [
       "(1, 0, 1, 1, 0, 1, 0, 1, 0, 0, 0, 0, 0, 0, 0, 0)"
      ]
     },
     "execution_count": 50,
     "metadata": {},
     "output_type": "execute_result"
    }
   ],
   "source": [
    "z=H.solve_right(syn);z  # a solution of Hz^T = syn"
   ]
  },
  {
   "cell_type": "code",
   "execution_count": 51,
   "metadata": {},
   "outputs": [
    {
     "name": "stdout",
     "output_type": "stream",
     "text": [
      "(1, 0, 1, 1, 0, 1, 0, 1, 0, 0, 0, 0, 0, 0, 0, 0)\n",
      "(1, 0, 0, 0, 0, 0, 0, 0, 0, 0, 0, 0, 0, 0, 1, 0)\n",
      "(0, 0, 1, 1, 0, 1, 0, 1, 0, 0, 0, 0, 0, 0, 1, 0)\n"
     ]
    }
   ],
   "source": [
    "# Now Goppa decoding as above \n",
    "e, c = patterson(z); print(z) ; print(e) ; print(c)"
   ]
  },
  {
   "cell_type": "code",
   "execution_count": 52,
   "metadata": {},
   "outputs": [
    {
     "data": {
      "text/plain": [
       "(0, 0, 0, 0, 1, 0, 0, 1, 0, 0, 0, 0, 0, 0, 0, 0)"
      ]
     },
     "execution_count": 52,
     "metadata": {},
     "output_type": "execute_result"
    }
   ],
   "source": [
    "P.inverse()*e # recover the plaintext "
   ]
  }
 ],
 "metadata": {
  "kernelspec": {
   "display_name": "SageMath 8.5",
   "language": "",
   "name": "sagemath"
  },
  "language_info": {
   "codemirror_mode": {
    "name": "ipython",
    "version": 2
   },
   "file_extension": ".py",
   "mimetype": "text/x-python",
   "name": "python",
   "nbconvert_exporter": "python",
   "pygments_lexer": "ipython2",
   "version": "2.7.15"
  }
 },
 "nbformat": 4,
 "nbformat_minor": 2
}
