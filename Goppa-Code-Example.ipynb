{
 "cells": [
  {
   "cell_type": "markdown",
   "metadata": {},
   "source": [
    "### Construct a [16,8,5] Goppa code"
   ]
  },
  {
   "cell_type": "code",
   "execution_count": 1,
   "metadata": {
    "collapsed": true
   },
   "outputs": [],
   "source": [
    "K.<z>=GF(2^4, name='z', modulus=x^4+x+1) # K=GF(16)"
   ]
  },
  {
   "cell_type": "code",
   "execution_count": 2,
   "metadata": {
    "collapsed": true
   },
   "outputs": [],
   "source": [
    "R.<x>=K[]"
   ]
  },
  {
   "cell_type": "code",
   "execution_count": 3,
   "metadata": {
    "collapsed": false
   },
   "outputs": [
    {
     "data": {
      "text/plain": [
       "True"
      ]
     },
     "execution_count": 3,
     "metadata": {},
     "output_type": "execute_result"
    }
   ],
   "source": [
    "g=x^2+z^2*x+z; g.is_irreducible() # irreducible polynomial g of degree 2 over GF(16)"
   ]
  },
  {
   "cell_type": "code",
   "execution_count": 4,
   "metadata": {
    "collapsed": true
   },
   "outputs": [],
   "source": [
    "Rmodg=R.quotient_ring(g) # GF(16)/(g(x))"
   ]
  },
  {
   "cell_type": "code",
   "execution_count": 5,
   "metadata": {
    "collapsed": false
   },
   "outputs": [],
   "source": [
    "arr=[]\n",
    "for a in K.list():\n",
    "\tarr.append(1/Rmodg(x-a)) "
   ]
  },
  {
   "cell_type": "code",
   "execution_count": 7,
   "metadata": {
    "collapsed": true
   },
   "outputs": [],
   "source": [
    "H16=matrix(K,2,16)"
   ]
  },
  {
   "cell_type": "code",
   "execution_count": 8,
   "metadata": {
    "collapsed": false
   },
   "outputs": [],
   "source": [
    "for i in range(0,2):\n",
    "\tfor j in range(0,16):\n",
    "\t\tH16[i,j]=list(arr[j])[i]"
   ]
  },
  {
   "cell_type": "code",
   "execution_count": 9,
   "metadata": {
    "collapsed": false
   },
   "outputs": [
    {
     "data": {
      "text/plain": [
       "[                z           z^3 + z                 0               z^3               z^3           z^2 + z                 1 z^3 + z^2 + z + 1           z^2 + z           z^3 + z z^3 + z^2 + z + 1       z^3 + z + 1       z^3 + z + 1                 z                 1     z^3 + z^2 + 1]\n",
       "[          z^3 + 1             z + 1           z^3 + 1 z^3 + z^2 + z + 1           z^2 + 1             z + 1 z^3 + z^2 + z + 1                 1           z^2 + z     z^3 + z^2 + 1           z^2 + 1     z^3 + z^2 + 1                 1               z^2               z^2           z^2 + z]"
      ]
     },
     "execution_count": 9,
     "metadata": {},
     "output_type": "execute_result"
    }
   ],
   "source": [
    "H16 # parity check matrix of a [16,14] code C over GF(16)"
   ]
  },
  {
   "cell_type": "code",
   "execution_count": 10,
   "metadata": {
    "collapsed": false
   },
   "outputs": [],
   "source": [
    "H=matrix(GF(2),8,16)\n",
    "for i in range(0,2):\n",
    "\tfor j in range(0,16):\n",
    "\t\tH16[i,j]=list(arr[j])[i]\n",
    "\t\thbin=bin(eval(H16[i,j]._int_repr()))[2:]\n",
    "\t\thbin = '0'*(4-len(hbin))+hbin; hbin = list(hbin);\n",
    "\t\tH[4*i:4*(i+1),j] = vector(map(GF(2),hbin));"
   ]
  },
  {
   "cell_type": "code",
   "execution_count": 11,
   "metadata": {
    "collapsed": false
   },
   "outputs": [
    {
     "data": {
      "text/plain": [
       "[0 1 0 1 1 0 0 1 0 1 1 1 1 0 0 1]\n",
       "[0 0 0 0 0 1 0 1 1 0 1 0 0 0 0 1]\n",
       "[1 1 0 0 0 1 0 1 1 1 1 1 1 1 0 0]\n",
       "[0 0 0 0 0 0 1 1 0 0 1 1 1 0 1 1]\n",
       "[1 0 1 1 0 0 1 0 0 1 0 1 0 0 0 0]\n",
       "[0 0 0 1 1 0 1 0 1 1 1 1 0 1 1 1]\n",
       "[0 1 0 1 0 1 1 0 1 0 0 0 0 0 0 1]\n",
       "[1 1 1 1 1 1 1 1 0 1 1 1 1 0 0 0]"
      ]
     },
     "execution_count": 11,
     "metadata": {},
     "output_type": "execute_result"
    }
   ],
   "source": [
    "H # parity check matrix of associated [16,8,5] Goppa code over GF(2)"
   ]
  },
  {
   "cell_type": "code",
   "execution_count": 12,
   "metadata": {
    "collapsed": true
   },
   "outputs": [],
   "source": [
    "G=H.right_kernel().basis_matrix()"
   ]
  },
  {
   "cell_type": "code",
   "execution_count": 13,
   "metadata": {
    "collapsed": false
   },
   "outputs": [
    {
     "data": {
      "text/plain": [
       "[1 0 0 0 0 0 0 0 1 0 0 1 0 1 0 1]\n",
       "[0 1 0 0 0 0 0 0 1 0 1 0 0 1 1 0]\n",
       "[0 0 1 0 0 0 0 0 1 1 0 0 0 0 1 1]\n",
       "[0 0 0 1 0 0 0 0 1 1 1 0 1 0 0 0]\n",
       "[0 0 0 0 1 0 0 0 0 1 0 1 1 1 0 0]\n",
       "[0 0 0 0 0 1 0 0 0 1 0 1 1 0 1 1]\n",
       "[0 0 0 0 0 0 1 0 0 0 1 1 1 1 1 1]\n",
       "[0 0 0 0 0 0 0 1 0 1 1 1 0 0 1 0]"
      ]
     },
     "execution_count": 13,
     "metadata": {},
     "output_type": "execute_result"
    }
   ],
   "source": [
    "G # generator matrix of the Goppa code"
   ]
  },
  {
   "cell_type": "code",
   "execution_count": 14,
   "metadata": {
    "collapsed": true
   },
   "outputs": [],
   "source": [
    "Gamma = LinearCode(G)"
   ]
  },
  {
   "cell_type": "code",
   "execution_count": 15,
   "metadata": {
    "collapsed": false
   },
   "outputs": [
    {
     "data": {
      "text/plain": [
       "5"
      ]
     },
     "execution_count": 15,
     "metadata": {},
     "output_type": "execute_result"
    }
   ],
   "source": [
    "Gamma.minimum_distance() # SageMath verifies that the minimum distance is 5"
   ]
  },
  {
   "cell_type": "markdown",
   "metadata": {},
   "source": [
    "### Decoding example using Patterson's algorithm"
   ]
  },
  {
   "cell_type": "code",
   "execution_count": 16,
   "metadata": {
    "collapsed": true
   },
   "outputs": [],
   "source": [
    "v=vector(GF(2),[1, 1, 0, 1, 0, 0, 1, 0])*G # codeword"
   ]
  },
  {
   "cell_type": "code",
   "execution_count": 17,
   "metadata": {
    "collapsed": true
   },
   "outputs": [],
   "source": [
    "e=vector(GF(2),[0, 0, 1, 0, 0, 0, 1, 0, 0, 0, 0, 0, 0, 0, 0, 0]) # error positions are 3 and 7"
   ]
  },
  {
   "cell_type": "code",
   "execution_count": 18,
   "metadata": {
    "collapsed": true
   },
   "outputs": [],
   "source": [
    "w=v+e"
   ]
  },
  {
   "cell_type": "code",
   "execution_count": 19,
   "metadata": {
    "collapsed": false
   },
   "outputs": [
    {
     "data": {
      "text/plain": [
       "(z^2 + z)*xbar + 1"
      ]
     },
     "execution_count": 19,
     "metadata": {},
     "output_type": "execute_result"
    }
   ],
   "source": [
    "Syn=w*vector(arr); Syn # syndrome Syn(w)"
   ]
  },
  {
   "cell_type": "code",
   "execution_count": 20,
   "metadata": {
    "collapsed": false
   },
   "outputs": [
    {
     "data": {
      "text/plain": [
       "z^3*xbar + z^3 + z + 1"
      ]
     },
     "execution_count": 20,
     "metadata": {},
     "output_type": "execute_result"
    }
   ],
   "source": [
    "T=1/(w*vector(arr)); T # 1/Syn(w)"
   ]
  },
  {
   "cell_type": "code",
   "execution_count": 21,
   "metadata": {
    "collapsed": false
   },
   "outputs": [
    {
     "data": {
      "text/plain": [
       "(z^3 + 1)*xbar + z^3 + z + 1"
      ]
     },
     "execution_count": 21,
     "metadata": {},
     "output_type": "execute_result"
    }
   ],
   "source": [
    "T-Rmodg(x)"
   ]
  },
  {
   "cell_type": "code",
   "execution_count": 22,
   "metadata": {
    "collapsed": false
   },
   "outputs": [
    {
     "data": {
      "text/plain": [
       "(z^3 + z^2)*xbar + z^2 + z + 1"
      ]
     },
     "execution_count": 22,
     "metadata": {},
     "output_type": "execute_result"
    }
   ],
   "source": [
    "S=(T-Rmodg(x))^128; S # sqrt(T-x) in GF(16)/(g)"
   ]
  },
  {
   "cell_type": "code",
   "execution_count": 23,
   "metadata": {
    "collapsed": false
   },
   "outputs": [
    {
     "data": {
      "text/plain": [
       "(z^3 + z^2 + z + 1)*x^2 + x + z^2 + z"
      ]
     },
     "execution_count": 23,
     "metadata": {},
     "output_type": "execute_result"
    }
   ],
   "source": [
    "f0=((z^3+z^2)*x+ z^2 + z + 1)^2 + x; f0 # lift S to R=K[x] and set f0=S^2 + x"
   ]
  },
  {
   "cell_type": "code",
   "execution_count": 24,
   "metadata": {
    "collapsed": false
   },
   "outputs": [
    {
     "data": {
      "text/plain": [
       "(z^3 + z^2 + z + 1) * (x + z^2) * (x + z^3 + z^2)"
      ]
     },
     "execution_count": 24,
     "metadata": {},
     "output_type": "execute_result"
    }
   ],
   "source": [
    "f0.factor()"
   ]
  },
  {
   "cell_type": "code",
   "execution_count": 25,
   "metadata": {
    "collapsed": true
   },
   "outputs": [],
   "source": [
    "i=1; ind=[]"
   ]
  },
  {
   "cell_type": "code",
   "execution_count": 26,
   "metadata": {
    "collapsed": false
   },
   "outputs": [
    {
     "name": "stdout",
     "output_type": "stream",
     "text": [
      "[3, 7]\n"
     ]
    }
   ],
   "source": [
    "for k in list(K):\n",
    "    if ((f0.subs(x=k))==0):\n",
    "        ind.append(i)\n",
    "    i=i+1\n",
    "print(ind)        # get print error positions"
   ]
  },
  {
   "cell_type": "code",
   "execution_count": 27,
   "metadata": {
    "collapsed": false
   },
   "outputs": [
    {
     "data": {
      "text/plain": [
       "(z^2 + z)*xbar + 1"
      ]
     },
     "execution_count": 27,
     "metadata": {},
     "output_type": "execute_result"
    }
   ],
   "source": [
    "e*vector(arr) # w and e have the same syndrome"
   ]
  },
  {
   "cell_type": "code",
   "execution_count": null,
   "metadata": {
    "collapsed": true
   },
   "outputs": [],
   "source": []
  }
 ],
 "metadata": {
  "kernelspec": {
   "display_name": "SageMath 8.0",
   "language": "",
   "name": "sagemath"
  },
  "language_info": {
   "codemirror_mode": {
    "name": "ipython",
    "version": 2
   },
   "file_extension": ".py",
   "mimetype": "text/x-python",
   "name": "python",
   "nbconvert_exporter": "python",
   "pygments_lexer": "ipython2",
   "version": "2.7.13"
  }
 },
 "nbformat": 4,
 "nbformat_minor": 2
}
